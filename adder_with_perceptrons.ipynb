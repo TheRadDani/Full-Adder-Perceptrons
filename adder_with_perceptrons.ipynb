{
  "nbformat": 4,
  "nbformat_minor": 0,
  "metadata": {
    "colab": {
      "provenance": [],
      "authorship_tag": "ABX9TyMMHbSuPtslm+nKMkn3PEeF",
      "include_colab_link": true
    },
    "kernelspec": {
      "name": "python3",
      "display_name": "Python 3"
    },
    "language_info": {
      "name": "python"
    }
  },
  "cells": [
    {
      "cell_type": "markdown",
      "metadata": {
        "id": "view-in-github",
        "colab_type": "text"
      },
      "source": [
        "<a href=\"https://colab.research.google.com/github/TheRadDani/Full-Adder-Perceptrons/blob/main/adder_with_perceptrons.ipynb\" target=\"_parent\"><img src=\"https://colab.research.google.com/assets/colab-badge.svg\" alt=\"Open In Colab\"/></a>"
      ]
    },
    {
      "cell_type": "code",
      "execution_count": 18,
      "metadata": {
        "colab": {
          "base_uri": "https://localhost:8080/"
        },
        "id": "H0inAoCXtwSh",
        "outputId": "9dfa2181-494c-4ad5-be9e-9a20fd146aca"
      },
      "outputs": [
        {
          "output_type": "stream",
          "name": "stdout",
          "text": [
            "Threshold:  -3 Accuracy:  0.0\n",
            "Threshold:  -2 Accuracy:  0.0\n",
            "Threshold:  -1 Accuracy:  0.25\n",
            "Threshold:  0 Accuracy:  0.25\n",
            "Threshold:  1 Accuracy:  0.5\n",
            "Threshold:  2 Accuracy:  0.5\n",
            "Threshold:  3 Accuracy:  0.25\n",
            "Best Threshold:  1 Best Accuracy:  0.5\n"
          ]
        }
      ],
      "source": [
        "import numpy as np\n",
        "\n",
        "class NAND:\n",
        "    def __init__(self, threshold=0):\n",
        "        self.weights = np.array([-2, -2])\n",
        "        self.bias = 3\n",
        "        self.threshold = threshold\n",
        "\n",
        "    def __call__(self, x1, x2):\n",
        "        inputs = np.array([x1, x2])\n",
        "        output = np.sum(inputs * self.weights) + self.bias\n",
        "        if output <= self.threshold:\n",
        "            return 0\n",
        "        else:\n",
        "            return 1\n",
        "\n",
        "def binary_adder(x1, x2, threshold):\n",
        "    carry_bit = NAND(threshold)(NAND(threshold)(x1, x2), NAND(threshold)(x1, x2))\n",
        "    sum_bit = NAND(threshold)(x1, NAND(threshold)(x1, x2))\n",
        "    return (carry_bit, sum_bit)\n",
        "\n",
        "# Train the binary adder function\n",
        "inputs = [(0,0), (0,1), (1,0), (1,1)]\n",
        "outputs = [(0,0), (0,1), (0,1), (1,0)]\n",
        "\n",
        "thresholds = [-3, -2, -1, 0, 1, 2, 3]\n",
        "\n",
        "best_accuracy = 0\n",
        "best_threshold = 0\n",
        "\n",
        "for threshold in thresholds:\n",
        "    nand = NAND(threshold)\n",
        "    lr = 0.1\n",
        "    epochs = 10000\n",
        "\n",
        "    for epoch in range(epochs):\n",
        "        for i, input_pair in enumerate(inputs):\n",
        "            output_pair = binary_adder(*input_pair, threshold)\n",
        "            error_pair = np.array(outputs[i]) - np.array(output_pair)\n",
        "            weights_sum = np.array([np.sum(np.array(input_pair)), np.sum(np.array(input_pair))])\n",
        "            delta_weights = lr * error_pair * weights_sum\n",
        "            nand.weights = (nand.weights + delta_weights).astype(int)\n",
        "            nand.bias = (nand.bias + lr * np.sum(error_pair)).astype(int)\n",
        "\n",
        "    # Test the binary adder function\n",
        "    inputs = [(0,0), (0,1), (1,0), (1,1)]\n",
        "    outputs = [(0,0), (0,1), (0,1), (1,0)]\n",
        "\n",
        "    correct = 0\n",
        "    for i, input_pair in enumerate(inputs):\n",
        "        output_pair = binary_adder(*input_pair, threshold)\n",
        "        if output_pair == outputs[i]:\n",
        "            correct += 1\n",
        "\n",
        "    accuracy = correct / len(inputs)\n",
        "    print(\"Threshold: \", threshold, \"Accuracy: \", accuracy)\n",
        "\n",
        "    if accuracy > best_accuracy:\n",
        "        best_accuracy = accuracy\n",
        "        best_threshold = threshold\n",
        "\n",
        "print(\"Best Threshold: \", best_threshold, \"Best Accuracy: \", best_accuracy)"
      ]
    }
  ]
}